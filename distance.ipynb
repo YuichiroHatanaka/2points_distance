{
 "cells": [
  {
   "cell_type": "markdown",
   "id": "014bf181",
   "metadata": {},
   "source": [
    "# 2点間の距離を計測"
   ]
  },
  {
   "cell_type": "markdown",
   "id": "f45fdb48",
   "metadata": {},
   "source": [
    "### 1. 必要なモジュールをインポート"
   ]
  },
  {
   "cell_type": "code",
   "execution_count": 13,
   "id": "58c9c3a4",
   "metadata": {},
   "outputs": [],
   "source": [
    "import math"
   ]
  },
  {
   "cell_type": "markdown",
   "id": "de4d7689",
   "metadata": {},
   "source": [
    "### 2. 始点と終点を読み取る"
   ]
  },
  {
   "cell_type": "code",
   "execution_count": 33,
   "id": "4aa16859",
   "metadata": {},
   "outputs": [
    {
     "name": "stdout",
     "output_type": "stream",
     "text": [
      "１つ目の点を入力\n",
      "x\n",
      "1\n",
      "y\n",
      "2\n",
      "２つ目の点を入力\n",
      "x\n",
      "3\n",
      "y\n",
      "4\n",
      "始点： (1, 2)\n",
      "終点： (3, 4)\n"
     ]
    }
   ],
   "source": [
    "print('１つ目の点を入力')\n",
    "print('x座標を入力')\n",
    "x1 = input()\n",
    "x_1 = int(x1)\n",
    "print('y座標を入力')\n",
    "y1 = input()\n",
    "y_1 = int(y1)\n",
    "\n",
    "print('２つ目の点を入力')\n",
    "print('x座標を入力')\n",
    "x2 = input()\n",
    "x_2 = int(x2)\n",
    "print('y座標を入力')\n",
    "y2 = input()\n",
    "y_2 = int(y2)\n",
    "\n",
    "print('１つ目の点：', (x_1, y_1))\n",
    "print('２つめの点：', (x_2, y_2))"
   ]
  },
  {
   "cell_type": "markdown",
   "id": "1b99e5b4",
   "metadata": {},
   "source": [
    "### 3. 2点間の距離を計算する"
   ]
  },
  {
   "cell_type": "code",
   "execution_count": 34,
   "id": "7df21bda",
   "metadata": {},
   "outputs": [
    {
     "name": "stdout",
     "output_type": "stream",
     "text": [
      "2点間の距離: 2.8284271247461903\n"
     ]
    }
   ],
   "source": [
    "x = abs(x_1 - x_2)\n",
    "y = abs(y_1 - y_2)\n",
    "\n",
    "a = math.sqrt(x**2 + y**2)\n",
    "\n",
    "print('2点間の距離:', a)"
   ]
  }
 ],
 "metadata": {
  "kernelspec": {
   "display_name": "Python 3",
   "language": "python",
   "name": "python3"
  },
  "language_info": {
   "codemirror_mode": {
    "name": "ipython",
    "version": 3
   },
   "file_extension": ".py",
   "mimetype": "text/x-python",
   "name": "python",
   "nbconvert_exporter": "python",
   "pygments_lexer": "ipython3",
   "version": "3.8.8"
  }
 },
 "nbformat": 4,
 "nbformat_minor": 5
}
